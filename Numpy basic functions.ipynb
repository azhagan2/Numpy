{
 "cells": [
  {
   "cell_type": "markdown",
   "id": "1cdc40cf-dacf-48e9-9bd1-3fe3e02fc0c9",
   "metadata": {
    "jp-MarkdownHeadingCollapsed": true
   },
   "source": [
    "# Creating Arrays"
   ]
  },
  {
   "cell_type": "code",
   "execution_count": null,
   "id": "2da21a19-66ab-42ab-844d-33369837751b",
   "metadata": {},
   "outputs": [],
   "source": [
    "print('Hello world !')"
   ]
  },
  {
   "cell_type": "code",
   "execution_count": 2,
   "id": "cc16b0c3-98c0-402d-9d8d-3c6526ab791b",
   "metadata": {},
   "outputs": [],
   "source": [
    "import numpy as np"
   ]
  },
  {
   "cell_type": "code",
   "execution_count": 4,
   "id": "ce88bd16-ca7e-4e3d-8e11-9dc8ca22515a",
   "metadata": {},
   "outputs": [
    {
     "name": "stdout",
     "output_type": "stream",
     "text": [
      "[1 2 3 4 5]\n"
     ]
    }
   ],
   "source": [
    "arr = np.array([1,2,3,4,5])\n",
    "print(arr)                       #implementing a 1d array"
   ]
  },
  {
   "cell_type": "code",
   "execution_count": 6,
   "id": "76a803dc-a6a1-4624-9765-f07bd978735e",
   "metadata": {},
   "outputs": [
    {
     "name": "stdout",
     "output_type": "stream",
     "text": [
      "1.23.4\n"
     ]
    }
   ],
   "source": [
    "print(np.__version__)            # checking the numpy version "
   ]
  },
  {
   "cell_type": "markdown",
   "id": "294e6064-6654-4e1d-b19e-cae42fcfe6b7",
   "metadata": {
    "jp-MarkdownHeadingCollapsed": true
   },
   "source": [
    "# Array Indexing"
   ]
  },
  {
   "cell_type": "code",
   "execution_count": 49,
   "id": "38d9e987-c933-4f6a-8ff8-f739868bae47",
   "metadata": {},
   "outputs": [
    {
     "name": "stdout",
     "output_type": "stream",
     "text": [
      "2nd element on 1st row:  2\n"
     ]
    }
   ],
   "source": [
    "import numpy as np\n",
    "\n",
    "arr = np.array([[1,2,3,4,5], [6,7,8,9,10]])\n",
    "\n",
    "print('2nd element on 1st row: ', arr[0, 1])"
   ]
  },
  {
   "cell_type": "code",
   "execution_count": 7,
   "id": "ef156cf7-c34b-4809-aa8f-5b60bfeb2426",
   "metadata": {},
   "outputs": [
    {
     "name": "stdout",
     "output_type": "stream",
     "text": [
      "<class 'numpy.ndarray'>\n"
     ]
    }
   ],
   "source": [
    "print(type(arr))                 # checking the type of array object (nd array)"
   ]
  },
  {
   "cell_type": "code",
   "execution_count": 14,
   "id": "ec573560-4032-4333-8be4-4e473508e7f3",
   "metadata": {},
   "outputs": [],
   "source": [
    "arr1 = np.array({1,2,3,4,5})     # array object as sets"
   ]
  },
  {
   "cell_type": "code",
   "execution_count": 15,
   "id": "464221a6-dabc-43dd-b577-00bcfd254c23",
   "metadata": {},
   "outputs": [
    {
     "name": "stdout",
     "output_type": "stream",
     "text": [
      "{1, 2, 3, 4, 5}\n"
     ]
    }
   ],
   "source": [
    "print(arr1)"
   ]
  },
  {
   "cell_type": "code",
   "execution_count": 16,
   "id": "730e4f8e-5b5e-4dca-b63e-d3130efdac8d",
   "metadata": {},
   "outputs": [],
   "source": [
    "arr2 = np.array(42)              #implementing a 0d array object "
   ]
  },
  {
   "cell_type": "code",
   "execution_count": 128,
   "id": "c467418e-87a4-4792-898e-9e88e3caca48",
   "metadata": {},
   "outputs": [
    {
     "name": "stdout",
     "output_type": "stream",
     "text": [
      "42\n",
      "<class 'numpy.ndarray'>\n"
     ]
    }
   ],
   "source": [
    "print(arr2)\n",
    "print(type(arr2))"
   ]
  },
  {
   "cell_type": "code",
   "execution_count": 46,
   "id": "e3f5865d-7d5b-4120-96c2-0d4c02b3267f",
   "metadata": {},
   "outputs": [],
   "source": [
    "arr3 = np.array([1,2,3,4,5])     #implementing a 1d array"
   ]
  },
  {
   "cell_type": "code",
   "execution_count": 48,
   "id": "48b16d18-8ec8-45a1-82f6-c04fce160fc4",
   "metadata": {},
   "outputs": [
    {
     "name": "stdout",
     "output_type": "stream",
     "text": [
      "[1 2 3 4 5]\n",
      "2\n",
      "6\n"
     ]
    }
   ],
   "source": [
    "print(arr3)\n",
    "print(arr3[1])\n",
    "print(arr3[1]+arr[3])                    # we can add the elements of an array like lists in python"
   ]
  },
  {
   "cell_type": "code",
   "execution_count": 49,
   "id": "5ac799d1-40bc-49d9-9c29-8fb5661a2ecd",
   "metadata": {},
   "outputs": [
    {
     "name": "stdout",
     "output_type": "stream",
     "text": [
      "[[1 2 3]\n",
      " [4 5 6]]\n"
     ]
    }
   ],
   "source": [
    "print(arr4)"
   ]
  },
  {
   "cell_type": "code",
   "execution_count": 53,
   "id": "fe44ff32-ddc6-4596-b722-9d48eae898c0",
   "metadata": {},
   "outputs": [
    {
     "name": "stdout",
     "output_type": "stream",
     "text": [
      "[1 2 3]\n",
      "3\n",
      "6\n"
     ]
    }
   ],
   "source": [
    "print(arr4[0])\n",
    "print(arr4[0,2])\n",
    "print(arr4[1,2])             # array indexing"
   ]
  },
  {
   "cell_type": "code",
   "execution_count": 54,
   "id": "d2d9a128-d98b-484f-b03f-684c5cea1ff0",
   "metadata": {},
   "outputs": [
    {
     "name": "stdout",
     "output_type": "stream",
     "text": [
      "[[[1 2 3]\n",
      "  [4 5 6]]\n",
      "\n",
      " [[1 2 3]\n",
      "  [4 5 6]]]\n"
     ]
    }
   ],
   "source": [
    "print(d3)"
   ]
  },
  {
   "cell_type": "code",
   "execution_count": 129,
   "id": "baf22da2-117f-43fe-8f32-9ae384b7044f",
   "metadata": {},
   "outputs": [
    {
     "name": "stdout",
     "output_type": "stream",
     "text": [
      "[[1 2 3]\n",
      " [4 5 6]]\n"
     ]
    }
   ],
   "source": [
    "print(d3[0])            # array indexing"
   ]
  },
  {
   "cell_type": "code",
   "execution_count": 56,
   "id": "9e607bad-8284-469a-94e7-02db073e34c6",
   "metadata": {},
   "outputs": [
    {
     "name": "stdout",
     "output_type": "stream",
     "text": [
      "[4 5 6]\n"
     ]
    }
   ],
   "source": [
    "print(d3[0,1])         # array indexing"
   ]
  },
  {
   "cell_type": "code",
   "execution_count": 57,
   "id": "8d5c16eb-6eae-478b-bf1b-4296f31fb4d0",
   "metadata": {},
   "outputs": [
    {
     "name": "stdout",
     "output_type": "stream",
     "text": [
      "5\n"
     ]
    }
   ],
   "source": [
    "print(d3[0,1,1])      # array indexing"
   ]
  },
  {
   "cell_type": "code",
   "execution_count": 60,
   "id": "73bfd2c4-d42f-411c-b754-c21ad4376867",
   "metadata": {},
   "outputs": [
    {
     "name": "stdout",
     "output_type": "stream",
     "text": [
      "1\n"
     ]
    }
   ],
   "source": [
    "print(d3[-1,0,0])     # array indexing"
   ]
  },
  {
   "cell_type": "markdown",
   "id": "ad2bb5b1-3c5c-475d-8c51-bf14a3cc84a9",
   "metadata": {
    "jp-MarkdownHeadingCollapsed": true
   },
   "source": [
    "# Array Slicing"
   ]
  },
  {
   "cell_type": "code",
   "execution_count": 47,
   "id": "65726418-a6f9-4254-a426-052bf5e44c0e",
   "metadata": {},
   "outputs": [
    {
     "name": "stdout",
     "output_type": "stream",
     "text": [
      "[1 3 5]\n"
     ]
    }
   ],
   "source": [
    "print(arr3[::2])"
   ]
  },
  {
   "cell_type": "code",
   "execution_count": 26,
   "id": "2e7ac427-629c-4ab5-a832-8b651c52cef1",
   "metadata": {},
   "outputs": [],
   "source": [
    "arr4 = np.array(((1,2,3),(4,5,6)))       #implementing a 2d array"
   ]
  },
  {
   "cell_type": "code",
   "execution_count": 28,
   "id": "03918a4f-309e-4232-88b3-777f916c0b66",
   "metadata": {},
   "outputs": [
    {
     "name": "stdout",
     "output_type": "stream",
     "text": [
      "[[1 2 3]\n",
      " [4 5 6]]\n"
     ]
    }
   ],
   "source": [
    "print(arr4)"
   ]
  },
  {
   "cell_type": "code",
   "execution_count": 38,
   "id": "5661f5d9-3f9d-4d20-ad70-966503a71057",
   "metadata": {},
   "outputs": [],
   "source": [
    "d3 = np.array((((1,2,3),(4,5,6)),((1,2,3),(4,5,6))) )          #implementing a 3d array"
   ]
  },
  {
   "cell_type": "code",
   "execution_count": 39,
   "id": "b6a42e86-ceaf-4bbf-8078-197784b286fa",
   "metadata": {},
   "outputs": [
    {
     "name": "stdout",
     "output_type": "stream",
     "text": [
      "[[[1 2 3]\n",
      "  [4 5 6]]\n",
      "\n",
      " [[1 2 3]\n",
      "  [4 5 6]]]\n"
     ]
    }
   ],
   "source": [
    "print(d3)"
   ]
  },
  {
   "cell_type": "code",
   "execution_count": 40,
   "id": "b807ad4d-141c-46bc-aaaa-2b5ef9c2981b",
   "metadata": {},
   "outputs": [
    {
     "name": "stdout",
     "output_type": "stream",
     "text": [
      "0\n",
      "1\n",
      "2\n",
      "3\n"
     ]
    }
   ],
   "source": [
    "print(arr2.ndim)\n",
    "print(arr3.ndim)\n",
    "print(arr4.ndim)\n",
    "print(d3.ndim)                     # using (array.ndim) we can find the array of a dimension \n"
   ]
  },
  {
   "cell_type": "code",
   "execution_count": 43,
   "id": "13d322c8-6427-4bde-b247-e43ebbc3856e",
   "metadata": {},
   "outputs": [],
   "source": [
    "d5 = np.array([1,2,3,4], ndmin=5)      # we can explicitly define the dimension of an array using the argument ndmin - ndmin = 5"
   ]
  },
  {
   "cell_type": "code",
   "execution_count": 44,
   "id": "9acc2e4c-9f3e-4e54-9025-693c8eee3502",
   "metadata": {},
   "outputs": [
    {
     "name": "stdout",
     "output_type": "stream",
     "text": [
      "[[[[[1 2 3 4]]]]]\n"
     ]
    }
   ],
   "source": [
    "print(d5)"
   ]
  },
  {
   "cell_type": "code",
   "execution_count": 45,
   "id": "386e5595-9046-4852-892e-7f1256650b7d",
   "metadata": {},
   "outputs": [
    {
     "name": "stdout",
     "output_type": "stream",
     "text": [
      "5\n"
     ]
    }
   ],
   "source": [
    "print(d5.ndim)"
   ]
  },
  {
   "cell_type": "code",
   "execution_count": 85,
   "id": "bb98d145-5613-4867-90f7-bbfc88f6164b",
   "metadata": {},
   "outputs": [
    {
     "name": "stdout",
     "output_type": "stream",
     "text": [
      "[1 2 3 4 5]\n"
     ]
    }
   ],
   "source": [
    "print(arr3[::1])      # array slicing"
   ]
  },
  {
   "cell_type": "code",
   "execution_count": 97,
   "id": "772fd8de-8763-4a4b-b1a1-27478e8fe0f1",
   "metadata": {},
   "outputs": [
    {
     "name": "stdout",
     "output_type": "stream",
     "text": [
      "[[1]\n",
      " [4]]\n"
     ]
    }
   ],
   "source": [
    "print(arr4[0:2,0:1])        # array slicing"
   ]
  },
  {
   "cell_type": "code",
   "execution_count": 98,
   "id": "24050ffa-d81c-444a-a86e-4c2e9652181c",
   "metadata": {},
   "outputs": [],
   "source": [
    "arr = np.array(['apple', 'banana', 'cherry'])"
   ]
  },
  {
   "cell_type": "markdown",
   "id": "6a997227-8fa7-40a8-a05e-cc11d0e70fbb",
   "metadata": {
    "jp-MarkdownHeadingCollapsed": true
   },
   "source": [
    "# Data type"
   ]
  },
  {
   "cell_type": "code",
   "execution_count": 101,
   "id": "e188d8df-7a30-4d5e-b109-9e567e6fce0c",
   "metadata": {},
   "outputs": [
    {
     "name": "stdout",
     "output_type": "stream",
     "text": [
      "<U6\n"
     ]
    }
   ],
   "source": [
    "print(arr.dtype)          # we can find the data type of an array using dtype property - (array.dtype)"
   ]
  },
  {
   "cell_type": "code",
   "execution_count": 104,
   "id": "ec933a0e-fc75-47a9-b0dd-bf95f4550b59",
   "metadata": {},
   "outputs": [
    {
     "name": "stdout",
     "output_type": "stream",
     "text": [
      "int32\n"
     ]
    }
   ],
   "source": [
    "print(arr4.dtype)"
   ]
  },
  {
   "cell_type": "code",
   "execution_count": 109,
   "id": "d61b587f-f678-48ef-9a0f-d1bfcad210d9",
   "metadata": {},
   "outputs": [],
   "source": [
    "arr3 = np.array([1,2,3,4,5],dtype = 'i')         # we can explicitly assign datatype using an optional argument, dtype = 'datatype'"
   ]
  },
  {
   "cell_type": "code",
   "execution_count": 110,
   "id": "2dd14cc7-bb16-437d-be96-13a26787e24d",
   "metadata": {},
   "outputs": [
    {
     "name": "stdout",
     "output_type": "stream",
     "text": [
      "int32\n"
     ]
    }
   ],
   "source": [
    "print(arr3.dtype)                     "
   ]
  },
  {
   "cell_type": "code",
   "execution_count": 117,
   "id": "4ef5aee2-1d50-4739-bea5-6fa5753988fa",
   "metadata": {},
   "outputs": [],
   "source": [
    "arr = np.array([1.1,2.2,3.3])\n",
    "\n",
    "newarr = arr.astype('i')                 # we can convert an array datatype by creating a copy of the array and convert it into another datatype."
   ]
  },
  {
   "cell_type": "code",
   "execution_count": 130,
   "id": "24523288-e849-4b6e-baf4-0b6baa5870b9",
   "metadata": {},
   "outputs": [
    {
     "name": "stdout",
     "output_type": "stream",
     "text": [
      "[1 2 3]\n"
     ]
    }
   ],
   "source": [
    "print(newarr)"
   ]
  },
  {
   "cell_type": "code",
   "execution_count": 131,
   "id": "d01e60ec-35a8-47fa-b1c1-0121dbe8dbf8",
   "metadata": {},
   "outputs": [
    {
     "name": "stdout",
     "output_type": "stream",
     "text": [
      "int32\n"
     ]
    }
   ],
   "source": [
    "print(newarr.dtype)"
   ]
  },
  {
   "cell_type": "code",
   "execution_count": 132,
   "id": "35d3440f-7a61-4f90-aab6-98844f515248",
   "metadata": {},
   "outputs": [],
   "source": [
    "newarr2 = arr.astype('int')     # converting it into int datatype from float"
   ]
  },
  {
   "cell_type": "code",
   "execution_count": 133,
   "id": "8d62403b-aada-4e85-88d6-9e6b446ca1a6",
   "metadata": {},
   "outputs": [
    {
     "name": "stdout",
     "output_type": "stream",
     "text": [
      "int32\n"
     ]
    }
   ],
   "source": [
    "print(newarr2.dtype)"
   ]
  },
  {
   "cell_type": "code",
   "execution_count": 134,
   "id": "417588f6-0226-4208-891a-c493fcf79522",
   "metadata": {},
   "outputs": [],
   "source": [
    "newarr3 = arr.astype('bool')       # converting it into bool datatype from float"
   ]
  },
  {
   "cell_type": "code",
   "execution_count": 135,
   "id": "0ab833c8-176b-4287-898f-1ca84eab98e9",
   "metadata": {},
   "outputs": [
    {
     "name": "stdout",
     "output_type": "stream",
     "text": [
      "bool\n"
     ]
    }
   ],
   "source": [
    "print(newarr3.dtype)"
   ]
  },
  {
   "cell_type": "markdown",
   "id": "2b235e52-6640-44c7-b2f6-f9d6e18480ab",
   "metadata": {
    "jp-MarkdownHeadingCollapsed": true
   },
   "source": [
    "# Copy vs View"
   ]
  },
  {
   "cell_type": "code",
   "execution_count": 9,
   "id": "42ca97cf-d1b4-40c7-8aea-8c8930c637f6",
   "metadata": {},
   "outputs": [
    {
     "name": "stdout",
     "output_type": "stream",
     "text": [
      "[42  2  3  4  5]\n",
      "[1 2 3 4 5]\n"
     ]
    }
   ],
   "source": [
    "import numpy as np\n",
    "\n",
    "ar1 = np.array([1,2,3,4,5])\n",
    "x=ar1.copy()\n",
    "x[0] = 42\n",
    "\n",
    "print(x)\n",
    "print(ar1)                                      #  copying the array and changes, doesn't affects the original data"
   ]
  },
  {
   "cell_type": "code",
   "execution_count": 5,
   "id": "1c3602d3-3e20-4047-89cd-dfb41902d646",
   "metadata": {},
   "outputs": [
    {
     "name": "stdout",
     "output_type": "stream",
     "text": [
      "[42  2  3  4  5]\n",
      "[42  2  3  4  5]\n"
     ]
    }
   ],
   "source": [
    "ar1 = np.array([1,2,3,4,5])\n",
    "y=ar1.view()\n",
    "ar1[0] = 42\n",
    "\n",
    "print(y)\n",
    "print(ar1)                                    # make a view of the original data"
   ]
  },
  {
   "cell_type": "code",
   "execution_count": 10,
   "id": "67c7b3d3-3cf2-4f5c-8663-b59650c4816b",
   "metadata": {},
   "outputs": [
    {
     "name": "stdout",
     "output_type": "stream",
     "text": [
      "[9 2 3 4 5]\n",
      "[9 2 3 4 5]\n"
     ]
    }
   ],
   "source": [
    "ar1 = np.array([1,2,3,4,5])\n",
    "y=ar1.view()\n",
    "y[0] = 9\n",
    "\n",
    "print(y)\n",
    "print(ar1)                                   #  viewing the array and changes, affects the original data "
   ]
  },
  {
   "cell_type": "code",
   "execution_count": 11,
   "id": "ed0d653d-a12d-4b35-b9b8-e99b28c355b9",
   "metadata": {},
   "outputs": [
    {
     "name": "stdout",
     "output_type": "stream",
     "text": [
      "None\n",
      "[9 2 3 4 5]\n"
     ]
    }
   ],
   "source": [
    "print(x.base)\n",
    "print(y.base)                                # copy returns \"none\" but view returns the original array which is the base source of data"
   ]
  },
  {
   "cell_type": "markdown",
   "id": "14a878e7-8634-45c7-8f25-053318fe58fa",
   "metadata": {
    "jp-MarkdownHeadingCollapsed": true
   },
   "source": [
    "# Array shape and reshape"
   ]
  },
  {
   "cell_type": "code",
   "execution_count": 13,
   "id": "76a5e74f-d46d-4ec8-851e-fcf716003ca9",
   "metadata": {},
   "outputs": [
    {
     "name": "stdout",
     "output_type": "stream",
     "text": [
      "(2, 3)\n"
     ]
    }
   ],
   "source": [
    "arr4 = np.array(((1,2,3),(4,5,6)))  \n",
    "print(arr4.shape)"
   ]
  },
  {
   "cell_type": "code",
   "execution_count": 15,
   "id": "81b3c4d0-f016-4317-a8bc-6b662b494837",
   "metadata": {},
   "outputs": [
    {
     "name": "stdout",
     "output_type": "stream",
     "text": [
      "(1, 1, 1, 1, 5)\n"
     ]
    }
   ],
   "source": [
    "d5 = np.array([1,2,3,4,5], ndmin = 5)\n",
    "print(d5.shape)"
   ]
  },
  {
   "cell_type": "code",
   "execution_count": 16,
   "id": "2af9a1f1-26c8-47b6-bbe3-435cdfe93053",
   "metadata": {},
   "outputs": [
    {
     "name": "stdout",
     "output_type": "stream",
     "text": [
      "(1, 2, 2, 3)\n"
     ]
    }
   ],
   "source": [
    "d3 = np.array((((1,2,3),(4,5,6)),((1,2,3),(4,5,6))), ndmin = 4 )\n",
    "print(d3.shape)"
   ]
  },
  {
   "cell_type": "code",
   "execution_count": 19,
   "id": "1e8687df-a7f1-48b4-986b-be120e6904ed",
   "metadata": {},
   "outputs": [
    {
     "name": "stdout",
     "output_type": "stream",
     "text": [
      "[[ 1  2  3]\n",
      " [ 4  5  6]\n",
      " [ 7  8  9]\n",
      " [10 11 12]]\n",
      "[[[ 1  2]\n",
      "  [ 3  4]\n",
      "  [ 5  6]]\n",
      "\n",
      " [[ 7  8]\n",
      "  [ 9 10]\n",
      "  [11 12]]]\n"
     ]
    }
   ],
   "source": [
    "arr5 = np.array([1,2,3,4,5,6,7,8,9,10,11,12])\n",
    "newarr5 = arr5.reshape(4,3)\n",
    "newarr6 = arr5.reshape(2,3,2)\n",
    "print(newarr5)\n",
    "print(newarr6)                                  # we can able to reshape an array in form of only feasible format only like (a*b....*n)"
   ]
  },
  {
   "cell_type": "code",
   "execution_count": 20,
   "id": "af08c150-8240-424c-8d91-30cf28112503",
   "metadata": {},
   "outputs": [
    {
     "name": "stdout",
     "output_type": "stream",
     "text": [
      "[ 1  2  3  4  5  6  7  8  9 10 11 12]\n"
     ]
    }
   ],
   "source": [
    "print(newarr6.base)                           # it is returning the original array, so it is just a view not a \"copy\""
   ]
  },
  {
   "cell_type": "code",
   "execution_count": 21,
   "id": "f1a1dea4-e09a-4475-836f-95a88186943b",
   "metadata": {},
   "outputs": [
    {
     "name": "stdout",
     "output_type": "stream",
     "text": [
      "[[[1 2]\n",
      "  [3 4]]\n",
      "\n",
      " [[5 6]\n",
      "  [7 8]]]\n"
     ]
    }
   ],
   "source": [
    "arr = np.array([1, 2, 3, 4, 5, 6, 7, 8])\n",
    "\n",
    "newarr = arr.reshape(2, 2, -1)\n",
    "\n",
    "print(newarr)                                '''You are allowed to have one \"unknown\" dimension. Pass -1 as the value, \n",
    "                                               and NumPy will calculate this number for you.\n",
    "                                               *We can not pass -1 to more than one dimension.'''"
   ]
  },
  {
   "cell_type": "code",
   "execution_count": 22,
   "id": "19f54293-3c39-47f9-ae29-4644ca876f0b",
   "metadata": {},
   "outputs": [
    {
     "name": "stdout",
     "output_type": "stream",
     "text": [
      "[1 2 3 4 5 6]\n"
     ]
    }
   ],
   "source": [
    "arr0 = np.array([[1, 2, 3], [4, 5, 6]])\n",
    "\n",
    "newarr0 = arr0.reshape(-1)\n",
    "\n",
    "print(newarr0)                           "
   ]
  },
  {
   "cell_type": "markdown",
   "id": "01a6da6c-7ae8-4710-b3b2-7602c25bf2f1",
   "metadata": {
    "jp-MarkdownHeadingCollapsed": true
   },
   "source": [
    "# Array Iterating"
   ]
  },
  {
   "cell_type": "code",
   "execution_count": 1,
   "id": "19f95f15-88d7-4690-9d12-1e320c9884f9",
   "metadata": {},
   "outputs": [
    {
     "name": "stdout",
     "output_type": "stream",
     "text": [
      "1\n",
      "2\n",
      "3\n",
      "4\n",
      "5\n"
     ]
    }
   ],
   "source": [
    "import numpy as np\n",
    "\n",
    "arr = np.array([1,2,3,4,5])\n",
    "\n",
    "for i in arr:\n",
    "    print(i)                                          #Iterating through 1-d array"
   ]
  },
  {
   "cell_type": "code",
   "execution_count": 3,
   "id": "65c11435-5472-4b02-b43a-28f3bd82c4f5",
   "metadata": {},
   "outputs": [
    {
     "name": "stdout",
     "output_type": "stream",
     "text": [
      "[1 2 3]\n",
      "[4 5 6]\n"
     ]
    }
   ],
   "source": [
    "arr2 = np.array(([1,2,3],[4,5,6]))\n",
    "\n",
    "for i in arr2:\n",
    "    print(i)                              #Iterating through 2-d array"
   ]
  },
  {
   "cell_type": "code",
   "execution_count": 4,
   "id": "56ed91fc-08af-4602-96b3-d0a364b96373",
   "metadata": {},
   "outputs": [
    {
     "name": "stdout",
     "output_type": "stream",
     "text": [
      "1\n",
      "2\n",
      "3\n",
      "4\n",
      "5\n",
      "6\n"
     ]
    }
   ],
   "source": [
    "for i in arr2:\n",
    "    for j in i:\n",
    "        print(j)"
   ]
  },
  {
   "cell_type": "code",
   "execution_count": 14,
   "id": "5adf075e-6e36-4ece-8af4-f1dd0fa00993",
   "metadata": {},
   "outputs": [],
   "source": [
    "arr3 = np.array((([1,2,3],[4,5,6]),([7,8,9],[10,11,12])))"
   ]
  },
  {
   "cell_type": "code",
   "execution_count": 15,
   "id": "ebcb4b6a-d411-4437-9fba-8617e344ae1f",
   "metadata": {},
   "outputs": [
    {
     "name": "stdout",
     "output_type": "stream",
     "text": [
      "1\n",
      "2\n",
      "3\n",
      "4\n",
      "5\n",
      "6\n",
      "7\n",
      "8\n",
      "9\n",
      "10\n",
      "11\n",
      "12\n"
     ]
    }
   ],
   "source": [
    "for i in arr3:\n",
    "    for j in i:\n",
    "        for k in j:\n",
    "            print(k)                #Iterating through 3-d array"
   ]
  },
  {
   "cell_type": "code",
   "execution_count": 18,
   "id": "04c34104-7a8b-46c8-8981-7e8f97ce43b3",
   "metadata": {},
   "outputs": [
    {
     "name": "stdout",
     "output_type": "stream",
     "text": [
      "1\n",
      "2\n",
      "3\n",
      "4\n",
      "5\n",
      "6\n",
      "7\n",
      "8\n",
      "9\n",
      "10\n",
      "11\n",
      "12\n"
     ]
    }
   ],
   "source": [
    "arr = np.array([[[1, 2], [3, 4]], [[5, 6], [7, 8]]])\n",
    "arr3 = np.array((([1,2,3],[4,5,6]),([7,8,9],[10,11,12])))\n",
    "\n",
    "\n",
    "for x in np.nditer(arr3):\n",
    "  print(x)                                          #The np.nditer() function will help us to replace the 'n' for loops usage."
   ]
  },
  {
   "cell_type": "code",
   "execution_count": 19,
   "id": "61397c04-0427-4e5b-9b47-509b1cacd63a",
   "metadata": {},
   "outputs": [
    {
     "name": "stdout",
     "output_type": "stream",
     "text": [
      "b'1'\n",
      "b'2'\n",
      "b'3'\n"
     ]
    }
   ],
   "source": [
    "arr = np.array([1, 2, 3])\n",
    "\n",
    "for x in np.nditer(arr, flags=['buffered'], op_dtypes=['S']):\n",
    "  print(x)                                                                                     \n",
    "                                 #use op_dtypes argument and pass it the expected datatype to change the datatype of elements while iterating.\n",
    "             '''NumPy does not change the data type of the element in-place (where the element is in array) so it needs some other space to \n",
    "                perform this action, that extra space is called buffer, \n",
    "                and in order to enable it in nditer() we pass flags=['buffered'].'''"
   ]
  },
  {
   "cell_type": "code",
   "execution_count": 21,
   "id": "3d6bcdb9-ee1c-48d9-92b3-350c528562d9",
   "metadata": {},
   "outputs": [
    {
     "name": "stdout",
     "output_type": "stream",
     "text": [
      "1\n",
      "3\n",
      "5\n",
      "7\n"
     ]
    }
   ],
   "source": [
    "arr = np.array([[1, 2, 3, 4], [5, 6, 7, 8]])\n",
    "\n",
    "for x in np.nditer(arr[:, ::2]):\n",
    "  print(x)                                       #iterating through different step size"
   ]
  },
  {
   "cell_type": "code",
   "execution_count": 22,
   "id": "b5aa2f2a-37c6-4696-a347-24c43f45e12a",
   "metadata": {},
   "outputs": [
    {
     "name": "stdout",
     "output_type": "stream",
     "text": [
      "(0,) 1\n",
      "(1,) 2\n",
      "(2,) 3\n"
     ]
    }
   ],
   "source": [
    "arr = np.array([1, 2, 3])\n",
    "\n",
    "for idx, x in np.ndenumerate(arr):\n",
    "  print(idx, x)                            # giving enumeration to each array elements"
   ]
  },
  {
   "cell_type": "code",
   "execution_count": 24,
   "id": "35d9f33c-ab34-42b7-a8c6-d3d0f8f70a14",
   "metadata": {},
   "outputs": [
    {
     "name": "stdout",
     "output_type": "stream",
     "text": [
      "(0, 0) 1\n",
      "(0, 1) 2\n",
      "(0, 2) 3\n",
      "(0, 3) 4\n",
      "(1, 0) 5\n",
      "(1, 1) 6\n",
      "(1, 2) 7\n",
      "(1, 3) 8\n"
     ]
    }
   ],
   "source": [
    "arr = np.array([[1, 2, 3, 4], [5, 6, 7, 8]])\n",
    "\n",
    "for idx, x in np.ndenumerate(arr):\n",
    "  print(idx, x)                           # giving enumeration to a 2-d array to each elements"
   ]
  },
  {
   "cell_type": "code",
   "execution_count": 25,
   "id": "c6085cc3-07b2-4e36-9083-68b1b37f0cad",
   "metadata": {},
   "outputs": [
    {
     "name": "stdout",
     "output_type": "stream",
     "text": [
      "[1 2 3 4 5 6]\n"
     ]
    }
   ],
   "source": [
    "arr1 = np.array([1, 2, 3])\n",
    "\n",
    "arr2 = np.array([4, 5, 6])\n",
    "\n",
    "arr = np.concatenate((arr1, arr2))              # joining arrays using axis = 0\n",
    "\n",
    "print(arr)"
   ]
  },
  {
   "cell_type": "code",
   "execution_count": 37,
   "id": "a0da0cf4-e9ff-4201-b21b-8c0a09eb95b4",
   "metadata": {},
   "outputs": [
    {
     "name": "stdout",
     "output_type": "stream",
     "text": [
      "[[1 2 5 6]\n",
      " [3 4 7 8]]\n"
     ]
    }
   ],
   "source": [
    "arr1 = np.array([[1, 2], [3, 4]])\n",
    "\n",
    "arr2 = np.array([[5, 6], [7, 8]])\n",
    "\n",
    "arr = np.concatenate((arr1, arr2), axis=1)           # joining arrays using axis =1\n",
    "\n",
    "print(arr)"
   ]
  },
  {
   "cell_type": "code",
   "execution_count": 39,
   "id": "a3e1aad2-db62-4cb9-b310-423953bf2091",
   "metadata": {},
   "outputs": [
    {
     "name": "stdout",
     "output_type": "stream",
     "text": [
      "[[1 4]\n",
      " [2 5]\n",
      " [3 6]]\n"
     ]
    }
   ],
   "source": [
    "arr1 = np.array([1, 2, 3])\n",
    "\n",
    "arr2 = np.array([4, 5, 6])\n",
    "\n",
    "arr = np.stack((arr1, arr2), axis=1)               # Joining Arrays Using Stack Functions\n",
    "\n",
    "\n",
    "print(arr)"
   ]
  },
  {
   "cell_type": "markdown",
   "id": "0a2b72ee-b108-41e7-bb29-997bd8b6b585",
   "metadata": {
    "jp-MarkdownHeadingCollapsed": true
   },
   "source": [
    "# Array Join"
   ]
  },
  {
   "cell_type": "code",
   "execution_count": 41,
   "id": "fe7a6908-14b1-403c-9bc5-0a16b228231d",
   "metadata": {},
   "outputs": [
    {
     "name": "stdout",
     "output_type": "stream",
     "text": [
      "[1 2 3 4 5 6]\n"
     ]
    }
   ],
   "source": [
    "arr1 = np.array([1, 2, 3])\n",
    "\n",
    "arr2 = np.array([4, 5, 6])\n",
    "\n",
    "arr = np.hstack((arr1, arr2))               # Joining Arrays Using \"hstack\" Functions - to stack along rows\n",
    "\n",
    "\n",
    "print(arr)"
   ]
  },
  {
   "cell_type": "code",
   "execution_count": 44,
   "id": "9da47ac9-e5b7-4a2e-b613-65a31d511a40",
   "metadata": {},
   "outputs": [
    {
     "name": "stdout",
     "output_type": "stream",
     "text": [
      "[[1 2 3]\n",
      " [4 5 6]]\n"
     ]
    }
   ],
   "source": [
    "arr1 = np.array([1, 2, 3])\n",
    "\n",
    "arr2 = np.array([4, 5, 6])\n",
    "\n",
    "arr = np.vstack((arr1, arr2))               # Joining Arrays Using \"hstack\" Functions - to stack along columns (default one)\n",
    "\n",
    "\n",
    "print(arr)"
   ]
  },
  {
   "cell_type": "code",
   "execution_count": 45,
   "id": "c6c99e60-593c-4f00-8e9b-cf081521429d",
   "metadata": {},
   "outputs": [
    {
     "name": "stdout",
     "output_type": "stream",
     "text": [
      "[[[1 4]\n",
      "  [2 5]\n",
      "  [3 6]]]\n"
     ]
    }
   ],
   "source": [
    "\n",
    "arr1 = np.array([1, 2, 3])\n",
    "\n",
    "arr2 = np.array([4, 5, 6])\n",
    "\n",
    "arr = np.dstack((arr1, arr2))               # Joining Arrays Using \"hstack\" Functions - to stack along height (depth)\n",
    "\n",
    "\n",
    "print(arr)"
   ]
  },
  {
   "cell_type": "markdown",
   "id": "d215e103-27a3-4f54-9f3f-b05975c38738",
   "metadata": {
    "jp-MarkdownHeadingCollapsed": true
   },
   "source": [
    "# Array Splitting"
   ]
  },
  {
   "cell_type": "code",
   "execution_count": 1,
   "id": "dff28f4b-c61e-4ad4-97dd-e8536dc32a9c",
   "metadata": {},
   "outputs": [
    {
     "name": "stdout",
     "output_type": "stream",
     "text": [
      "[array([1, 2]), array([3, 4]), array([5, 6])]\n"
     ]
    }
   ],
   "source": [
    "import numpy as np\n",
    "\n",
    "arr = np.array([1, 2, 3, 4, 5, 6,7])\n",
    "\n",
    "newarr = np.array_split(arr, 3)\n",
    "\n",
    "print(newarr)                                # array_split() will split accordingly even though there is shortage of elements."
   ]
  },
  {
   "cell_type": "code",
   "execution_count": 5,
   "id": "67f506a3-e595-45a1-8920-0ffb65b8895e",
   "metadata": {},
   "outputs": [
    {
     "name": "stdout",
     "output_type": "stream",
     "text": [
      "[array([1, 2]), array([3, 4]), array([5, 6])]\n"
     ]
    }
   ],
   "source": [
    "    arr1 = np.array([1,2,3,4,5,6])\n",
    "\n",
    "newarr2 = np.split(arr1,3)\n",
    "\n",
    "print(newarr2)                             # split() function will throw an error when there is shortage of elements"
   ]
  },
  {
   "cell_type": "code",
   "execution_count": 6,
   "id": "0d67c19e-67b6-4f2a-a304-2ab93c19ced8",
   "metadata": {},
   "outputs": [
    {
     "name": "stdout",
     "output_type": "stream",
     "text": [
      "[1 2]\n",
      "[3 4]\n",
      "[5 6]\n"
     ]
    }
   ],
   "source": [
    "arr = np.array([1, 2, 3, 4, 5, 6])\n",
    "\n",
    "newarr = np.array_split(arr, 3)\n",
    "\n",
    "print(newarr[0])\n",
    "print(newarr[1])\n",
    "print(newarr[2])                              # accessing the arrays"
   ]
  },
  {
   "cell_type": "code",
   "execution_count": 7,
   "id": "eac5e222-7b8f-402a-9390-50a3dc85afd4",
   "metadata": {},
   "outputs": [
    {
     "name": "stdout",
     "output_type": "stream",
     "text": [
      "[array([[1, 2],\n",
      "       [3, 4]]), array([[5, 6],\n",
      "       [7, 8]]), array([[ 9, 10],\n",
      "       [11, 12]])]\n"
     ]
    }
   ],
   "source": [
    "arr = np.array([[1, 2], [3, 4], [5, 6], [7, 8], [9, 10], [11, 12]])\n",
    "\n",
    "newarr = np.array_split(arr, 3)\n",
    "\n",
    "print(newarr)                                 # splitting 2-d arrays"
   ]
  },
  {
   "cell_type": "code",
   "execution_count": 8,
   "id": "e7c550d3-154a-45c1-ace9-87ae531ae6f0",
   "metadata": {},
   "outputs": [
    {
     "name": "stdout",
     "output_type": "stream",
     "text": [
      "[array([[1, 2, 3],\n",
      "       [4, 5, 6]]), array([[ 7,  8,  9],\n",
      "       [10, 11, 12]]), array([[13, 14, 15],\n",
      "       [16, 17, 18]])]\n"
     ]
    }
   ],
   "source": [
    "arr = np.array([[1, 2, 3], [4, 5, 6], [7, 8, 9], [10, 11, 12], [13, 14, 15], [16, 17, 18]])\n",
    "\n",
    "newarr = np.array_split(arr, 3)\n",
    "\n",
    "print(newarr)"
   ]
  },
  {
   "cell_type": "code",
   "execution_count": 9,
   "id": "50b0d76a-df69-41d8-9475-cb21db59e13a",
   "metadata": {},
   "outputs": [
    {
     "name": "stdout",
     "output_type": "stream",
     "text": [
      "[array([[ 1],\n",
      "       [ 4],\n",
      "       [ 7],\n",
      "       [10],\n",
      "       [13],\n",
      "       [16]]), array([[ 2],\n",
      "       [ 5],\n",
      "       [ 8],\n",
      "       [11],\n",
      "       [14],\n",
      "       [17]]), array([[ 3],\n",
      "       [ 6],\n",
      "       [ 9],\n",
      "       [12],\n",
      "       [15],\n",
      "       [18]])]\n"
     ]
    }
   ],
   "source": [
    "arr = np.array([[1, 2, 3], [4, 5, 6], [7, 8, 9], [10, 11, 12], [13, 14, 15], [16, 17, 18]])\n",
    "\n",
    "newarr = np.array_split(arr, 3, axis=1)\n",
    "\n",
    "print(newarr)"
   ]
  },
  {
   "cell_type": "code",
   "execution_count": 10,
   "id": "4b30aab7-0a3b-47e1-aca5-2251719c0610",
   "metadata": {},
   "outputs": [
    {
     "name": "stdout",
     "output_type": "stream",
     "text": [
      "[array([[ 1],\n",
      "       [ 4],\n",
      "       [ 7],\n",
      "       [10],\n",
      "       [13],\n",
      "       [16]]), array([[ 2],\n",
      "       [ 5],\n",
      "       [ 8],\n",
      "       [11],\n",
      "       [14],\n",
      "       [17]]), array([[ 3],\n",
      "       [ 6],\n",
      "       [ 9],\n",
      "       [12],\n",
      "       [15],\n",
      "       [18]])]\n"
     ]
    }
   ],
   "source": [
    "arr = np.array([[1, 2, 3], [4, 5, 6], [7, 8, 9], [10, 11, 12], [13, 14, 15], [16, 17, 18]])\n",
    "\n",
    "newarr = np.hsplit(arr, 3)\n",
    "\n",
    "print(newarr)"
   ]
  },
  {
   "cell_type": "code",
   "execution_count": 13,
   "id": "bbf1cd9a-c908-41a8-a99a-0d74a18b8bb2",
   "metadata": {},
   "outputs": [
    {
     "name": "stdout",
     "output_type": "stream",
     "text": [
      "[array([[1, 2, 3],\n",
      "       [4, 5, 6],\n",
      "       [7, 8, 9]]), array([[10, 11, 12],\n",
      "       [13, 14, 15],\n",
      "       [16, 17, 18]])]\n"
     ]
    }
   ],
   "source": [
    "arr = np.array([[1, 2, 3], [4, 5, 6], [7, 8, 9], [10, 11, 12], [13, 14, 15], [16, 17, 18]])\n",
    "\n",
    "newarr = np.vsplit(arr, 2)\n",
    "\n",
    "print(newarr)"
   ]
  },
  {
   "cell_type": "code",
   "execution_count": 15,
   "id": "d4decc06-86f9-4b1d-b241-b49029fe4f4f",
   "metadata": {},
   "outputs": [
    {
     "ename": "ValueError",
     "evalue": "dsplit only works on arrays of 3 or more dimensions",
     "output_type": "error",
     "traceback": [
      "\u001b[1;31m---------------------------------------------------------------------------\u001b[0m",
      "\u001b[1;31mValueError\u001b[0m                                Traceback (most recent call last)",
      "Cell \u001b[1;32mIn[15], line 3\u001b[0m\n\u001b[0;32m      1\u001b[0m arr \u001b[38;5;241m=\u001b[39m np\u001b[38;5;241m.\u001b[39marray([[\u001b[38;5;241m1\u001b[39m, \u001b[38;5;241m2\u001b[39m, \u001b[38;5;241m3\u001b[39m], [\u001b[38;5;241m4\u001b[39m, \u001b[38;5;241m5\u001b[39m, \u001b[38;5;241m6\u001b[39m], [\u001b[38;5;241m7\u001b[39m, \u001b[38;5;241m8\u001b[39m, \u001b[38;5;241m9\u001b[39m], [\u001b[38;5;241m10\u001b[39m, \u001b[38;5;241m11\u001b[39m, \u001b[38;5;241m12\u001b[39m], [\u001b[38;5;241m13\u001b[39m, \u001b[38;5;241m14\u001b[39m, \u001b[38;5;241m15\u001b[39m], [\u001b[38;5;241m16\u001b[39m, \u001b[38;5;241m17\u001b[39m, \u001b[38;5;241m18\u001b[39m]])\n\u001b[1;32m----> 3\u001b[0m newarr \u001b[38;5;241m=\u001b[39m \u001b[43mnp\u001b[49m\u001b[38;5;241;43m.\u001b[39;49m\u001b[43mdsplit\u001b[49m\u001b[43m(\u001b[49m\u001b[43marr\u001b[49m\u001b[43m,\u001b[49m\u001b[43m \u001b[49m\u001b[38;5;241;43m5\u001b[39;49m\u001b[43m)\u001b[49m\n\u001b[0;32m      5\u001b[0m \u001b[38;5;28mprint\u001b[39m(newarr)\n",
      "File \u001b[1;32m<__array_function__ internals>:180\u001b[0m, in \u001b[0;36mdsplit\u001b[1;34m(*args, **kwargs)\u001b[0m\n",
      "File \u001b[1;32mc:\\users\\azhagan\\appdata\\local\\programs\\python\\python38\\lib\\site-packages\\numpy\\lib\\shape_base.py:1041\u001b[0m, in \u001b[0;36mdsplit\u001b[1;34m(ary, indices_or_sections)\u001b[0m\n\u001b[0;32m   1002\u001b[0m \u001b[38;5;124;03m\"\"\"\u001b[39;00m\n\u001b[0;32m   1003\u001b[0m \u001b[38;5;124;03mSplit array into multiple sub-arrays along the 3rd axis (depth).\u001b[39;00m\n\u001b[0;32m   1004\u001b[0m \n\u001b[1;32m   (...)\u001b[0m\n\u001b[0;32m   1038\u001b[0m \u001b[38;5;124;03marray([], shape=(2, 2, 0), dtype=float64)]\u001b[39;00m\n\u001b[0;32m   1039\u001b[0m \u001b[38;5;124;03m\"\"\"\u001b[39;00m\n\u001b[0;32m   1040\u001b[0m \u001b[38;5;28;01mif\u001b[39;00m _nx\u001b[38;5;241m.\u001b[39mndim(ary) \u001b[38;5;241m<\u001b[39m \u001b[38;5;241m3\u001b[39m:\n\u001b[1;32m-> 1041\u001b[0m     \u001b[38;5;28;01mraise\u001b[39;00m \u001b[38;5;167;01mValueError\u001b[39;00m(\u001b[38;5;124m'\u001b[39m\u001b[38;5;124mdsplit only works on arrays of 3 or more dimensions\u001b[39m\u001b[38;5;124m'\u001b[39m)\n\u001b[0;32m   1042\u001b[0m \u001b[38;5;28;01mreturn\u001b[39;00m split(ary, indices_or_sections, \u001b[38;5;241m2\u001b[39m)\n",
      "\u001b[1;31mValueError\u001b[0m: dsplit only works on arrays of 3 or more dimensions"
     ]
    }
   ],
   "source": [
    "arr = np.array([[1, 2, 3], [4, 5, 6], [7, 8, 9], [10, 11, 12], [13, 14, 15], [16, 17, 18]])\n",
    "\n",
    "newarr = np.dsplit(arr, 5)\n",
    "\n",
    "print(newarr)"
   ]
  },
  {
   "cell_type": "markdown",
   "id": "34732f1d-e350-4e82-b918-46761ce9bac1",
   "metadata": {
    "jp-MarkdownHeadingCollapsed": true
   },
   "source": [
    "# Array Search"
   ]
  },
  {
   "cell_type": "code",
   "execution_count": 16,
   "id": "4664a548-c459-44ba-937f-f2c6e1f69b11",
   "metadata": {},
   "outputs": [
    {
     "name": "stdout",
     "output_type": "stream",
     "text": [
      "(array([3, 5, 6], dtype=int64),)\n"
     ]
    }
   ],
   "source": [
    "import numpy as np\n",
    "\n",
    "arr = np.array([1, 2, 3, 4, 5, 4, 4])\n",
    "\n",
    "x = np.where(arr == 4)\n",
    "\n",
    "print(x)"
   ]
  },
  {
   "cell_type": "code",
   "execution_count": 17,
   "id": "b04f8dd9-f40b-4afd-99d9-0736de2e7fd2",
   "metadata": {},
   "outputs": [
    {
     "name": "stdout",
     "output_type": "stream",
     "text": [
      "(array([1, 3, 5, 7], dtype=int64),)\n"
     ]
    }
   ],
   "source": [
    "arr = np.array([1, 2, 3, 4, 5, 6, 7, 8])\n",
    "\n",
    "x = np.where(arr%2 == 0)\n",
    "\n",
    "print(x)"
   ]
  },
  {
   "cell_type": "code",
   "execution_count": 18,
   "id": "f8eb8819-404b-42fe-b45a-3ca8cbe404a5",
   "metadata": {},
   "outputs": [
    {
     "name": "stdout",
     "output_type": "stream",
     "text": [
      "(array([0, 2, 4, 6], dtype=int64),)\n"
     ]
    }
   ],
   "source": [
    "arr = np.array([1, 2, 3, 4, 5, 6, 7, 8])\n",
    "\n",
    "x = np.where(arr%2 == 1)\n",
    "\n",
    "print(x)"
   ]
  },
  {
   "cell_type": "code",
   "execution_count": 54,
   "id": "880b4889-d1ea-4e59-81a8-e12724980e19",
   "metadata": {},
   "outputs": [
    {
     "name": "stdout",
     "output_type": "stream",
     "text": [
      "2\n"
     ]
    }
   ],
   "source": [
    "    arr = np.array([6,2,11,3,7, 8, 9,1])\n",
    "\n",
    "x = np.searchsorted(arr, 7)\n",
    "\n",
    "print(x)                                      # using search sorted it returens the index, where the 7 should be inserted"
   ]
  },
  {
   "cell_type": "code",
   "execution_count": 55,
   "id": "8b950f6a-8c14-486d-a6ee-d679e1e8f084",
   "metadata": {},
   "outputs": [
    {
     "name": "stdout",
     "output_type": "stream",
     "text": [
      "5\n"
     ]
    }
   ],
   "source": [
    "arr = np.array([6,7,1,3,5,8,10,15])\n",
    "\n",
    "x = np.searchsorted(arr, 7, side='right')\n",
    "    \n",
    "print(x)                            # By default left most index is returned, but if we give side='right', it will give right most index instead"
   ]
  },
  {
   "cell_type": "code",
   "execution_count": 53,
   "id": "51b1216d-0f6a-4812-b741-c75c66007936",
   "metadata": {},
   "outputs": [
    {
     "name": "stdout",
     "output_type": "stream",
     "text": [
      "[1 2 3]\n"
     ]
    }
   ],
   "source": [
    "arr = np.array([1, 3, 5, 7])\n",
    "\n",
    "x = np.searchsorted(arr, [2, 4, 6])\n",
    "\n",
    "print(x)"
   ]
  },
  {
   "cell_type": "markdown",
   "id": "5dea5ce1-6ac2-4be6-9abe-2cdff1ba94bc",
   "metadata": {
    "jp-MarkdownHeadingCollapsed": true
   },
   "source": [
    "# Sorting Arrays"
   ]
  },
  {
   "cell_type": "code",
   "execution_count": 56,
   "id": "e97cbe65-2ed6-4263-af78-ef7f18d9c139",
   "metadata": {},
   "outputs": [
    {
     "name": "stdout",
     "output_type": "stream",
     "text": [
      "[0 1 2 3]\n"
     ]
    }
   ],
   "source": [
    "import numpy as np\n",
    "\n",
    "arr = np.array([3, 2, 0, 1])\n",
    "\n",
    "print(np.sort(arr))"
   ]
  },
  {
   "cell_type": "code",
   "execution_count": 57,
   "id": "d5de8b65-1a8f-4342-9fdd-075636f6a728",
   "metadata": {},
   "outputs": [
    {
     "name": "stdout",
     "output_type": "stream",
     "text": [
      "['apple' 'banana' 'cherry']\n"
     ]
    }
   ],
   "source": [
    "arr = np.array(['banana', 'cherry', 'apple'])\n",
    "\n",
    "print(np.sort(arr))"
   ]
  },
  {
   "cell_type": "code",
   "execution_count": 58,
   "id": "82f138b8-9f6f-42a2-8baa-9174a8b93567",
   "metadata": {},
   "outputs": [
    {
     "name": "stdout",
     "output_type": "stream",
     "text": [
      "[False  True  True]\n"
     ]
    }
   ],
   "source": [
    "arr = np.array([True, False, True])\n",
    "\n",
    "print(np.sort(arr))"
   ]
  },
  {
   "cell_type": "code",
   "execution_count": 59,
   "id": "58c9b1dc-d020-4ca0-8d58-7546fb95408c",
   "metadata": {},
   "outputs": [
    {
     "name": "stdout",
     "output_type": "stream",
     "text": [
      "[[2 3 4]\n",
      " [0 1 5]]\n"
     ]
    }
   ],
   "source": [
    "arr = np.array([[3, 2, 4], [5, 0, 1]])\n",
    "\n",
    "print(np.sort(arr))"
   ]
  },
  {
   "cell_type": "markdown",
   "id": "586c7ba4-6ea3-4f77-9a97-2b0c627599ff",
   "metadata": {
    "jp-MarkdownHeadingCollapsed": true
   },
   "source": [
    "# Filtering Arrays"
   ]
  },
  {
   "cell_type": "code",
   "execution_count": 60,
   "id": "27da9411-b44d-44db-ad3d-1f5ef1ba972d",
   "metadata": {},
   "outputs": [
    {
     "name": "stdout",
     "output_type": "stream",
     "text": [
      "[41 43]\n"
     ]
    }
   ],
   "source": [
    "import numpy as np\n",
    "\n",
    "arr = np.array([41, 42, 43, 44])\n",
    "\n",
    "x = [True, False, True, False]\n",
    "\n",
    "newarr = arr[x]\n",
    "\n",
    "print(newarr)"
   ]
  },
  {
   "cell_type": "code",
   "execution_count": 61,
   "id": "10fa0a05-bc71-464b-a3dd-ffcb57b2ede9",
   "metadata": {},
   "outputs": [
    {
     "name": "stdout",
     "output_type": "stream",
     "text": [
      "[False, False, True, True]\n",
      "[43 44]\n"
     ]
    }
   ],
   "source": [
    "arr = np.array([41, 42, 43, 44])\n",
    "\n",
    "# Create an empty list\n",
    "filter_arr = []\n",
    "\n",
    "# go through each element in arr\n",
    "for element in arr:\n",
    "  # if the element is higher than 42, set the value to True, otherwise False:\n",
    "  if element > 42:\n",
    "    filter_arr.append(True)\n",
    "  else:\n",
    "    filter_arr.append(False)\n",
    "\n",
    "newarr = arr[filter_arr]\n",
    "\n",
    "print(filter_arr)\n",
    "print(newarr)"
   ]
  },
  {
   "cell_type": "code",
   "execution_count": 62,
   "id": "83f9ff22-be3f-4a35-b4be-94b369e57949",
   "metadata": {},
   "outputs": [
    {
     "name": "stdout",
     "output_type": "stream",
     "text": [
      "[False, True, False, True, False, True, False]\n",
      "[2 4 6]\n"
     ]
    }
   ],
   "source": [
    "arr = np.array([1, 2, 3, 4, 5, 6, 7])\n",
    "\n",
    "# Create an empty list\n",
    "filter_arr = []\n",
    "\n",
    "# go through each element in arr\n",
    "for element in arr:\n",
    "  # if the element is completely divisble by 2, set the value to True, otherwise False\n",
    "  if element % 2 == 0:\n",
    "    filter_arr.append(True)\n",
    "  else:\n",
    "    filter_arr.append(False)\n",
    "\n",
    "newarr = arr[filter_arr]\n",
    "\n",
    "print(filter_arr)\n",
    "print(newarr)"
   ]
  },
  {
   "cell_type": "code",
   "execution_count": 63,
   "id": "3ba8ada8-eafb-4a47-8611-cab056960012",
   "metadata": {},
   "outputs": [
    {
     "name": "stdout",
     "output_type": "stream",
     "text": [
      "[False False  True  True]\n",
      "[43 44]\n"
     ]
    }
   ],
   "source": [
    "arr = np.array([41, 42, 43, 44])\n",
    "\n",
    "filter_arr = arr > 42\n",
    "\n",
    "newarr = arr[filter_arr]\n",
    "\n",
    "print(filter_arr)\n",
    "print(newarr)"
   ]
  },
  {
   "cell_type": "code",
   "execution_count": 64,
   "id": "28eabc9e-a11e-4b1b-8e70-55458e6f2218",
   "metadata": {},
   "outputs": [
    {
     "name": "stdout",
     "output_type": "stream",
     "text": [
      "[False  True False  True False  True False]\n",
      "[2 4 6]\n"
     ]
    }
   ],
   "source": [
    "arr = np.array([1, 2, 3, 4, 5, 6, 7])\n",
    "\n",
    "filter_arr = arr % 2 == 0\n",
    "\n",
    "newarr = arr[filter_arr]\n",
    "\n",
    "print(filter_arr)\n",
    "print(newarr)"
   ]
  },
  {
   "cell_type": "code",
   "execution_count": null,
   "id": "d71f94fa-28c1-457c-a24e-46231b0aa8f4",
   "metadata": {},
   "outputs": [],
   "source": []
  }
 ],
 "metadata": {
  "kernelspec": {
   "display_name": "Python 3 (ipykernel)",
   "language": "python",
   "name": "python3"
  },
  "language_info": {
   "codemirror_mode": {
    "name": "ipython",
    "version": 3
   },
   "file_extension": ".py",
   "mimetype": "text/x-python",
   "name": "python",
   "nbconvert_exporter": "python",
   "pygments_lexer": "ipython3",
   "version": "3.8.10"
  }
 },
 "nbformat": 4,
 "nbformat_minor": 5
}
